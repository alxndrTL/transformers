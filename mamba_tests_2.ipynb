{
 "cells": [
  {
   "cell_type": "code",
   "execution_count": 2,
   "metadata": {},
   "outputs": [],
   "source": [
    "import torch\n",
    "\n",
    "from transformers.models.mamba import MambaForCausalLM as MambaForCausalLM_orig, MambaConfig as MambaConfig_orig\n",
    "\n",
    "from src.transformers.models.mamba import MambaForCausalLM, MambaConfig"
   ]
  },
  {
   "cell_type": "code",
   "execution_count": 3,
   "metadata": {},
   "outputs": [
    {
     "name": "stderr",
     "output_type": "stream",
     "text": [
      "The fast path is not available because on of `(selective_state_update, selective_scan_fn, causal_conv1d_fn, causal_conv1d_update, mamba_inner_fn)` is None. Falling back to the naive implementation. To install follow https://github.com/state-spaces/mamba/#installation and https://github.com/Dao-AILab/causal-conv1d\n",
      "The fast path is not available because on of `(selective_state_update, selective_scan_fn, causal_conv1d_fn, causal_conv1d_update, mamba_inner_fn)` is None. Falling back to the mamba.py implementation for training. To install follow https://github.com/state-spaces/mamba/#installation and https://github.com/Dao-AILab/causal-conv1d\n"
     ]
    }
   ],
   "source": [
    "torch.manual_seed(34567)\n",
    "config = MambaConfig_orig(vocab_size=60, hidden_size=64, num_hidden_layers=4)\n",
    "model_orig = MambaForCausalLM_orig(config)\n",
    "\n",
    "torch.manual_seed(34567)\n",
    "config = MambaConfig(vocab_size=60, hidden_size=64, num_hidden_layers=4)\n",
    "model = MambaForCausalLM(config)"
   ]
  },
  {
   "cell_type": "code",
   "execution_count": 4,
   "metadata": {},
   "outputs": [],
   "source": [
    "x = torch.randint(low=0, high=config.vocab_size-1, size=(16, 12))\n",
    "\n",
    "y_orig = model_orig(x)\n",
    "J_orig = y_orig.logits.sum()\n",
    "J_orig.backward()\n",
    "\n",
    "y = model(x)\n",
    "J = y.logits.sum()\n",
    "J.backward()"
   ]
  },
  {
   "cell_type": "code",
   "execution_count": 5,
   "metadata": {},
   "outputs": [
    {
     "data": {
      "text/plain": [
       "True"
      ]
     },
     "execution_count": 5,
     "metadata": {},
     "output_type": "execute_result"
    }
   ],
   "source": [
    "torch.allclose(y_orig.logits, y.logits, rtol=0.001)"
   ]
  },
  {
   "cell_type": "code",
   "execution_count": 6,
   "metadata": {},
   "outputs": [
    {
     "name": "stdout",
     "output_type": "stream",
     "text": [
      "True\n"
     ]
    }
   ],
   "source": [
    "gradients_same = True\n",
    "for param1, param2 in zip(model_orig.parameters(), model.parameters()):\n",
    "    if not torch.allclose(param1.grad, param2.grad, rtol=0.01):\n",
    "        gradients_same = False\n",
    "        break\n",
    "\n",
    "print(gradients_same)"
   ]
  }
 ],
 "metadata": {
  "kernelspec": {
   "display_name": "torch23",
   "language": "python",
   "name": "python3"
  },
  "language_info": {
   "codemirror_mode": {
    "name": "ipython",
    "version": 3
   },
   "file_extension": ".py",
   "mimetype": "text/x-python",
   "name": "python",
   "nbconvert_exporter": "python",
   "pygments_lexer": "ipython3",
   "version": "3.12.2"
  }
 },
 "nbformat": 4,
 "nbformat_minor": 2
}
